{
 "cells": [
  {
   "cell_type": "markdown",
   "id": "e06c4677",
   "metadata": {},
   "source": [
    "# 02 · Train XGBoost Model\n",
    "Train an XGBoost binary classifier on `OUTCOME`, evaluate metrics, and save artifacts."
   ]
  },
  {
   "cell_type": "code",
   "execution_count": 0,
   "id": "e4851261",
   "metadata": {},
   "outputs": [],
   "source": [
    "import kagglehub, pandas as pd, numpy as np\n",
    "import xgboost as xgb\n",
    "from pathlib import Path\n",
    "from sklearn.model_selection import train_test_split\n",
    "from sklearn.metrics import roc_auc_score, average_precision_score, log_loss, brier_score_loss\n",
    "\n",
    "def prepare_categoricals_for_xgb(X: pd.DataFrame) -> pd.DataFrame:\n",
    "    Xc = X.copy()\n",
    "    for c in Xc.columns:\n",
    "        if Xc[c].dtype == \"object\":\n",
    "            Xc[c] = Xc[c].astype(\"category\")\n",
    "        if str(Xc[c].dtype).startswith(\"category\"):\n",
    "            Xc[c] = Xc[c].cat.add_categories([\"__NA__\"]).fillna(\"__NA__\")\n",
    "    return Xc\n",
    "\n",
    "path = kagglehub.dataset_download(\"sagnik1511/car-insurance-data\")\n",
    "csv = list(Path(path).rglob(\"*.csv\"))[0]\n",
    "df = pd.read_csv(csv)\n",
    "\n",
    "target = \"OUTCOME\"\n",
    "y = (df[target].astype(str).str.lower()\n",
    "        .map({\"1\":1,\"0\":0,\"yes\":1,\"no\":0,\"true\":1,\"false\":0})\n",
    "        .fillna(df[target]).astype(int))\n",
    "X = df.drop(columns=[target])\n",
    "X = prepare_categoricals_for_xgb(X)\n",
    "\n",
    "X_tr, X_te, y_tr, y_te = train_test_split(X, y, test_size=0.2, random_state=42, stratify=y)\n",
    "pos, neg = int(y_tr.sum()), len(y_tr)-int(y_tr.sum())\n",
    "scale_pos_weight = float(neg/max(pos,1))\n",
    "\n",
    "params = {\n",
    "    \"objective\": \"binary:logistic\",\n",
    "    \"eval_metric\": [\"auc\",\"logloss\"],\n",
    "    \"tree_method\": \"hist\",\n",
    "    \"learning_rate\": 0.05,\n",
    "    \"max_depth\": 6,\n",
    "    \"subsample\": 0.9,\n",
    "    \"colsample_bytree\": 0.9,\n",
    "    \"lambda\": 2.0,\n",
    "    \"alpha\": 0.0,\n",
    "    \"scale_pos_weight\": scale_pos_weight,\n",
    "    \"random_state\": 42\n",
    "}\n",
    "\n",
    "dtr = xgb.DMatrix(X_tr, label=y_tr, enable_categorical=True)\n",
    "dte = xgb.DMatrix(X_te, label=y_te, enable_categorical=True)\n",
    "\n",
    "booster = xgb.train(params, dtr, num_boost_round=1200,\n",
    "                    evals=[(dtr,\"train\"), (dte,\"valid\")],\n",
    "                    early_stopping_rounds=80, verbose_eval=False)\n",
    "\n",
    "p = booster.predict(xgb.DMatrix(X_te, enable_categorical=True))\n",
    "p_clip = np.clip(p, 1e-7, 1-1e-7)\n",
    "\n",
    "metrics = {\n",
    "    \"roc_auc\": float(roc_auc_score(y_te, p)),\n",
    "    \"pr_auc\": float(average_precision_score(y_te, p)),\n",
    "    \"logloss\": float(log_loss(y_te, p_clip)),\n",
    "    \"brier\": float(brier_score_loss(y_te, p_clip))\n",
    "}\n",
    "metrics"
   ]
  },
  {
   "cell_type": "markdown",
   "id": "a1e0b18c",
   "metadata": {},
   "source": [
    "## Save model & metadata"
   ]
  },
  {
   "cell_type": "code",
   "execution_count": 0,
   "id": "253665fc",
   "metadata": {},
   "outputs": [],
   "source": [
    "out = Path(\"../models\"); out.mkdir(exist_ok=True)\n",
    "booster.save_model(str(out/\"car_insurance_xgb.json\"))\n",
    "\n",
    "import json\n",
    "meta = {\n",
    "    \"path\": str(csv),\n",
    "    \"target\": target,\n",
    "    \"features\": list(X.columns),\n",
    "    \"class_balance\": y.value_counts().to_dict(),\n",
    "    \"metrics\": metrics\n",
    "}\n",
    "(out/\"car_insurance_xgb_meta.json\").write_text(json.dumps(meta, indent=2), encoding=\"utf-8\")\n",
    "print(\"Saved model & meta to ../models/\")"
   ]
  }
 ],
 "metadata": {
  "kernelspec": {
   "display_name": "Python 3",
   "language": "python",
   "name": "python3"
  },
  "language_info": {
   "name": "python",
   "version": "3.11"
  }
 },
 "nbformat": 4,
 "nbformat_minor": 5
}