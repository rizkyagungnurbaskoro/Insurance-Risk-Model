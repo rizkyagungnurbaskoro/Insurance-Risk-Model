{
 "cells": [
  {
   "cell_type": "markdown",
   "id": "82d2f6b9",
   "metadata": {},
   "source": [
    "# 03 · Interpretability with SHAP (XGBoost)\n",
    "Global and local explanations using SHAP.\n",
    "\n",
    "**Install:** `pip install shap`"
   ]
  },
  {
   "cell_type": "code",
   "execution_count": null,
   "id": "32005bbe",
   "metadata": {},
   "outputs": [
    {
     "ename": "ValueError",
     "evalue": "DataFrame.dtypes for data must be int, float, bool or category. When categorical type is supplied, the experimental DMatrix parameter`enable_categorical` must be set to `True`.  Invalid columns:AGE: category, GENDER: category, RACE: category, DRIVING_EXPERIENCE: category, EDUCATION: category, INCOME: category, VEHICLE_YEAR: category, VEHICLE_TYPE: category",
     "output_type": "error",
     "traceback": [
      "\u001b[31m---------------------------------------------------------------------------\u001b[39m",
      "\u001b[31mValueError\u001b[39m                                Traceback (most recent call last)",
      "\u001b[36mCell\u001b[39m\u001b[36m \u001b[39m\u001b[32mIn[7]\u001b[39m\u001b[32m, line 31\u001b[39m\n\u001b[32m     28\u001b[39m booster = xgb.Booster(); booster.load_model(\u001b[38;5;28mstr\u001b[39m(Path(\u001b[33m\"\u001b[39m\u001b[33m../models/car_insurance_xgb.json\u001b[39m\u001b[33m\"\u001b[39m)))\n\u001b[32m     30\u001b[39m explainer = shap.TreeExplainer(booster)\n\u001b[32m---> \u001b[39m\u001b[32m31\u001b[39m shap_values = \u001b[43mexplainer\u001b[49m\u001b[43m.\u001b[49m\u001b[43mshap_values\u001b[49m\u001b[43m(\u001b[49m\u001b[43mXc\u001b[49m\u001b[43m)\u001b[49m\n\u001b[32m     32\u001b[39m shap_values[:\u001b[32m1\u001b[39m].shape  \u001b[38;5;66;03m# sanity\u001b[39;00m\n",
      "\u001b[36mFile \u001b[39m\u001b[32md:\\Insurance_Risk_Model\\venv\\Lib\\site-packages\\shap\\explainers\\_tree.py:564\u001b[39m, in \u001b[36mTreeExplainer.shap_values\u001b[39m\u001b[34m(self, X, y, tree_limit, approximate, check_additivity, from_call)\u001b[39m\n\u001b[32m    561\u001b[39m \u001b[38;5;28;01mif\u001b[39;00m \u001b[38;5;129;01mnot\u001b[39;00m \u001b[38;5;28misinstance\u001b[39m(X, xgboost.core.DMatrix):\n\u001b[32m    562\u001b[39m     \u001b[38;5;66;03m# Retrieve any DMatrix properties if they have been set on the TreeEnsemble Class\u001b[39;00m\n\u001b[32m    563\u001b[39m     dmatrix_props = \u001b[38;5;28mgetattr\u001b[39m(\u001b[38;5;28mself\u001b[39m.model, \u001b[33m\"\u001b[39m\u001b[33m_xgb_dmatrix_props\u001b[39m\u001b[33m\"\u001b[39m, {})\n\u001b[32m--> \u001b[39m\u001b[32m564\u001b[39m     X = \u001b[43mxgboost\u001b[49m\u001b[43m.\u001b[49m\u001b[43mDMatrix\u001b[49m\u001b[43m(\u001b[49m\u001b[43mX\u001b[49m\u001b[43m,\u001b[49m\u001b[43m \u001b[49m\u001b[43m*\u001b[49m\u001b[43m*\u001b[49m\u001b[43mdmatrix_props\u001b[49m\u001b[43m)\u001b[49m\n\u001b[32m    565\u001b[39m phi = \u001b[38;5;28mself\u001b[39m.model.original_model.predict(\n\u001b[32m    566\u001b[39m     X,\n\u001b[32m    567\u001b[39m     iteration_range=(\u001b[32m0\u001b[39m, n_iterations),\n\u001b[32m   (...)\u001b[39m\u001b[32m    570\u001b[39m     validate_features=\u001b[38;5;28;01mFalse\u001b[39;00m,\n\u001b[32m    571\u001b[39m )\n\u001b[32m    572\u001b[39m \u001b[38;5;28;01mif\u001b[39;00m check_additivity \u001b[38;5;129;01mand\u001b[39;00m \u001b[38;5;28mself\u001b[39m.model.model_output == \u001b[33m\"\u001b[39m\u001b[33mraw\u001b[39m\u001b[33m\"\u001b[39m:\n",
      "\u001b[36mFile \u001b[39m\u001b[32md:\\Insurance_Risk_Model\\venv\\Lib\\site-packages\\xgboost\\core.py:726\u001b[39m, in \u001b[36mrequire_keyword_args.<locals>.throw_if.<locals>.inner_f\u001b[39m\u001b[34m(*args, **kwargs)\u001b[39m\n\u001b[32m    724\u001b[39m \u001b[38;5;28;01mfor\u001b[39;00m k, arg \u001b[38;5;129;01min\u001b[39;00m \u001b[38;5;28mzip\u001b[39m(sig.parameters, args):\n\u001b[32m    725\u001b[39m     kwargs[k] = arg\n\u001b[32m--> \u001b[39m\u001b[32m726\u001b[39m \u001b[38;5;28;01mreturn\u001b[39;00m \u001b[43mfunc\u001b[49m\u001b[43m(\u001b[49m\u001b[43m*\u001b[49m\u001b[43m*\u001b[49m\u001b[43mkwargs\u001b[49m\u001b[43m)\u001b[49m\n",
      "\u001b[36mFile \u001b[39m\u001b[32md:\\Insurance_Risk_Model\\venv\\Lib\\site-packages\\xgboost\\core.py:878\u001b[39m, in \u001b[36mDMatrix.__init__\u001b[39m\u001b[34m(self, data, label, weight, base_margin, missing, silent, feature_names, feature_types, nthread, group, qid, label_lower_bound, label_upper_bound, feature_weights, enable_categorical, data_split_mode)\u001b[39m\n\u001b[32m    875\u001b[39m     \u001b[38;5;28;01massert\u001b[39;00m \u001b[38;5;28mself\u001b[39m.handle \u001b[38;5;129;01mis\u001b[39;00m \u001b[38;5;129;01mnot\u001b[39;00m \u001b[38;5;28;01mNone\u001b[39;00m\n\u001b[32m    876\u001b[39m     \u001b[38;5;28;01mreturn\u001b[39;00m\n\u001b[32m--> \u001b[39m\u001b[32m878\u001b[39m handle, feature_names, feature_types = \u001b[43mdispatch_data_backend\u001b[49m\u001b[43m(\u001b[49m\n\u001b[32m    879\u001b[39m \u001b[43m    \u001b[49m\u001b[43mdata\u001b[49m\u001b[43m,\u001b[49m\n\u001b[32m    880\u001b[39m \u001b[43m    \u001b[49m\u001b[43mmissing\u001b[49m\u001b[43m=\u001b[49m\u001b[38;5;28;43mself\u001b[39;49m\u001b[43m.\u001b[49m\u001b[43mmissing\u001b[49m\u001b[43m,\u001b[49m\n\u001b[32m    881\u001b[39m \u001b[43m    \u001b[49m\u001b[43mthreads\u001b[49m\u001b[43m=\u001b[49m\u001b[38;5;28;43mself\u001b[39;49m\u001b[43m.\u001b[49m\u001b[43mnthread\u001b[49m\u001b[43m,\u001b[49m\n\u001b[32m    882\u001b[39m \u001b[43m    \u001b[49m\u001b[43mfeature_names\u001b[49m\u001b[43m=\u001b[49m\u001b[43mfeature_names\u001b[49m\u001b[43m,\u001b[49m\n\u001b[32m    883\u001b[39m \u001b[43m    \u001b[49m\u001b[43mfeature_types\u001b[49m\u001b[43m=\u001b[49m\u001b[43mfeature_types\u001b[49m\u001b[43m,\u001b[49m\n\u001b[32m    884\u001b[39m \u001b[43m    \u001b[49m\u001b[43menable_categorical\u001b[49m\u001b[43m=\u001b[49m\u001b[43menable_categorical\u001b[49m\u001b[43m,\u001b[49m\n\u001b[32m    885\u001b[39m \u001b[43m    \u001b[49m\u001b[43mdata_split_mode\u001b[49m\u001b[43m=\u001b[49m\u001b[43mdata_split_mode\u001b[49m\u001b[43m,\u001b[49m\n\u001b[32m    886\u001b[39m \u001b[43m\u001b[49m\u001b[43m)\u001b[49m\n\u001b[32m    887\u001b[39m \u001b[38;5;28;01massert\u001b[39;00m handle \u001b[38;5;129;01mis\u001b[39;00m \u001b[38;5;129;01mnot\u001b[39;00m \u001b[38;5;28;01mNone\u001b[39;00m\n\u001b[32m    888\u001b[39m \u001b[38;5;28mself\u001b[39m.handle = handle\n",
      "\u001b[36mFile \u001b[39m\u001b[32md:\\Insurance_Risk_Model\\venv\\Lib\\site-packages\\xgboost\\data.py:1223\u001b[39m, in \u001b[36mdispatch_data_backend\u001b[39m\u001b[34m(data, missing, threads, feature_names, feature_types, enable_categorical, data_split_mode)\u001b[39m\n\u001b[32m   1221\u001b[39m     data = pd.DataFrame(data)\n\u001b[32m   1222\u001b[39m \u001b[38;5;28;01mif\u001b[39;00m _is_pandas_df(data):\n\u001b[32m-> \u001b[39m\u001b[32m1223\u001b[39m     \u001b[38;5;28;01mreturn\u001b[39;00m \u001b[43m_from_pandas_df\u001b[49m\u001b[43m(\u001b[49m\n\u001b[32m   1224\u001b[39m \u001b[43m        \u001b[49m\u001b[43mdata\u001b[49m\u001b[43m,\u001b[49m\n\u001b[32m   1225\u001b[39m \u001b[43m        \u001b[49m\u001b[43menable_categorical\u001b[49m\u001b[43m,\u001b[49m\n\u001b[32m   1226\u001b[39m \u001b[43m        \u001b[49m\u001b[43mmissing\u001b[49m\u001b[43m,\u001b[49m\n\u001b[32m   1227\u001b[39m \u001b[43m        \u001b[49m\u001b[43mthreads\u001b[49m\u001b[43m,\u001b[49m\n\u001b[32m   1228\u001b[39m \u001b[43m        \u001b[49m\u001b[43mfeature_names\u001b[49m\u001b[43m,\u001b[49m\n\u001b[32m   1229\u001b[39m \u001b[43m        \u001b[49m\u001b[43mfeature_types\u001b[49m\u001b[43m,\u001b[49m\n\u001b[32m   1230\u001b[39m \u001b[43m        \u001b[49m\u001b[43mdata_split_mode\u001b[49m\u001b[43m,\u001b[49m\n\u001b[32m   1231\u001b[39m \u001b[43m    \u001b[49m\u001b[43m)\u001b[49m\n\u001b[32m   1232\u001b[39m \u001b[38;5;28;01mif\u001b[39;00m _is_cudf_df(data) \u001b[38;5;129;01mor\u001b[39;00m _is_cudf_ser(data):\n\u001b[32m   1233\u001b[39m     \u001b[38;5;28;01mreturn\u001b[39;00m _from_cudf_df(\n\u001b[32m   1234\u001b[39m         data, missing, threads, feature_names, feature_types, enable_categorical\n\u001b[32m   1235\u001b[39m     )\n",
      "\u001b[36mFile \u001b[39m\u001b[32md:\\Insurance_Risk_Model\\venv\\Lib\\site-packages\\xgboost\\data.py:640\u001b[39m, in \u001b[36m_from_pandas_df\u001b[39m\u001b[34m(data, enable_categorical, missing, nthread, feature_names, feature_types, data_split_mode)\u001b[39m\n\u001b[32m    631\u001b[39m \u001b[38;5;28;01mdef\u001b[39;00m\u001b[38;5;250m \u001b[39m\u001b[34m_from_pandas_df\u001b[39m(\n\u001b[32m    632\u001b[39m     data: DataFrame,\n\u001b[32m    633\u001b[39m     enable_categorical: \u001b[38;5;28mbool\u001b[39m,\n\u001b[32m   (...)\u001b[39m\u001b[32m    638\u001b[39m     data_split_mode: DataSplitMode = DataSplitMode.ROW,\n\u001b[32m    639\u001b[39m ) -> DispatchedDataBackendReturnType:\n\u001b[32m--> \u001b[39m\u001b[32m640\u001b[39m     df, feature_names, feature_types = \u001b[43m_transform_pandas_df\u001b[49m\u001b[43m(\u001b[49m\n\u001b[32m    641\u001b[39m \u001b[43m        \u001b[49m\u001b[43mdata\u001b[49m\u001b[43m,\u001b[49m\u001b[43m \u001b[49m\u001b[43menable_categorical\u001b[49m\u001b[43m,\u001b[49m\u001b[43m \u001b[49m\u001b[43mfeature_names\u001b[49m\u001b[43m,\u001b[49m\u001b[43m \u001b[49m\u001b[43mfeature_types\u001b[49m\n\u001b[32m    642\u001b[39m \u001b[43m    \u001b[49m\u001b[43m)\u001b[49m\n\u001b[32m    644\u001b[39m     handle = ctypes.c_void_p()\n\u001b[32m    645\u001b[39m     _check_call(\n\u001b[32m    646\u001b[39m         _LIB.XGDMatrixCreateFromColumnar(\n\u001b[32m    647\u001b[39m             df.array_interface(),\n\u001b[32m   (...)\u001b[39m\u001b[32m    652\u001b[39m         )\n\u001b[32m    653\u001b[39m     )\n",
      "\u001b[36mFile \u001b[39m\u001b[32md:\\Insurance_Risk_Model\\venv\\Lib\\site-packages\\xgboost\\data.py:603\u001b[39m, in \u001b[36m_transform_pandas_df\u001b[39m\u001b[34m(data, enable_categorical, feature_names, feature_types, meta)\u001b[39m\n\u001b[32m    596\u001b[39m \u001b[38;5;28;01mdef\u001b[39;00m\u001b[38;5;250m \u001b[39m\u001b[34m_transform_pandas_df\u001b[39m(\n\u001b[32m    597\u001b[39m     data: DataFrame,\n\u001b[32m    598\u001b[39m     enable_categorical: \u001b[38;5;28mbool\u001b[39m,\n\u001b[32m   (...)\u001b[39m\u001b[32m    601\u001b[39m     meta: Optional[\u001b[38;5;28mstr\u001b[39m] = \u001b[38;5;28;01mNone\u001b[39;00m,\n\u001b[32m    602\u001b[39m ) -> Tuple[PandasTransformed, Optional[FeatureNames], Optional[FeatureTypes]]:\n\u001b[32m--> \u001b[39m\u001b[32m603\u001b[39m     \u001b[43mpandas_check_dtypes\u001b[49m\u001b[43m(\u001b[49m\u001b[43mdata\u001b[49m\u001b[43m,\u001b[49m\u001b[43m \u001b[49m\u001b[43menable_categorical\u001b[49m\u001b[43m)\u001b[49m\n\u001b[32m    604\u001b[39m     \u001b[38;5;28;01mif\u001b[39;00m meta \u001b[38;5;129;01mand\u001b[39;00m \u001b[38;5;28mlen\u001b[39m(data.columns) > \u001b[32m1\u001b[39m \u001b[38;5;129;01mand\u001b[39;00m meta \u001b[38;5;129;01mnot\u001b[39;00m \u001b[38;5;129;01min\u001b[39;00m _matrix_meta:\n\u001b[32m    605\u001b[39m         \u001b[38;5;28;01mraise\u001b[39;00m \u001b[38;5;167;01mValueError\u001b[39;00m(\u001b[33mf\u001b[39m\u001b[33m\"\u001b[39m\u001b[33mDataFrame for \u001b[39m\u001b[38;5;132;01m{\u001b[39;00mmeta\u001b[38;5;132;01m}\u001b[39;00m\u001b[33m cannot have multiple columns\u001b[39m\u001b[33m\"\u001b[39m)\n",
      "\u001b[36mFile \u001b[39m\u001b[32md:\\Insurance_Risk_Model\\venv\\Lib\\site-packages\\xgboost\\data.py:569\u001b[39m, in \u001b[36mpandas_check_dtypes\u001b[39m\u001b[34m(data, enable_categorical)\u001b[39m\n\u001b[32m    562\u001b[39m \u001b[38;5;28;01mfor\u001b[39;00m dtype \u001b[38;5;129;01min\u001b[39;00m data.dtypes:\n\u001b[32m    563\u001b[39m     \u001b[38;5;28;01mif\u001b[39;00m \u001b[38;5;129;01mnot\u001b[39;00m (\n\u001b[32m    564\u001b[39m         (dtype.name \u001b[38;5;129;01min\u001b[39;00m _pandas_dtype_mapper)\n\u001b[32m    565\u001b[39m         \u001b[38;5;129;01mor\u001b[39;00m is_pd_sparse_dtype(dtype)\n\u001b[32m    566\u001b[39m         \u001b[38;5;129;01mor\u001b[39;00m (is_pd_cat_dtype(dtype) \u001b[38;5;129;01mand\u001b[39;00m enable_categorical)\n\u001b[32m    567\u001b[39m         \u001b[38;5;129;01mor\u001b[39;00m is_pa_ext_dtype(dtype)\n\u001b[32m    568\u001b[39m     ):\n\u001b[32m--> \u001b[39m\u001b[32m569\u001b[39m         \u001b[43m_invalid_dataframe_dtype\u001b[49m\u001b[43m(\u001b[49m\u001b[43mdata\u001b[49m\u001b[43m)\u001b[49m\n\u001b[32m    571\u001b[39m     \u001b[38;5;28;01mif\u001b[39;00m is_pd_sparse_dtype(dtype):\n\u001b[32m    572\u001b[39m         sparse_extension = \u001b[38;5;28;01mTrue\u001b[39;00m\n",
      "\u001b[36mFile \u001b[39m\u001b[32md:\\Insurance_Risk_Model\\venv\\Lib\\site-packages\\xgboost\\data.py:356\u001b[39m, in \u001b[36m_invalid_dataframe_dtype\u001b[39m\u001b[34m(data)\u001b[39m\n\u001b[32m    354\u001b[39m type_err = \u001b[33m\"\u001b[39m\u001b[33mDataFrame.dtypes for data must be int, float, bool or category.\u001b[39m\u001b[33m\"\u001b[39m\n\u001b[32m    355\u001b[39m msg = \u001b[33mf\u001b[39m\u001b[33m\"\"\"\u001b[39m\u001b[38;5;132;01m{\u001b[39;00mtype_err\u001b[38;5;132;01m}\u001b[39;00m\u001b[33m \u001b[39m\u001b[38;5;132;01m{\u001b[39;00m_ENABLE_CAT_ERR\u001b[38;5;132;01m}\u001b[39;00m\u001b[33m \u001b[39m\u001b[38;5;132;01m{\u001b[39;00merr\u001b[38;5;132;01m}\u001b[39;00m\u001b[33m\"\"\"\u001b[39m\n\u001b[32m--> \u001b[39m\u001b[32m356\u001b[39m \u001b[38;5;28;01mraise\u001b[39;00m \u001b[38;5;167;01mValueError\u001b[39;00m(msg)\n",
      "\u001b[31mValueError\u001b[39m: DataFrame.dtypes for data must be int, float, bool or category. When categorical type is supplied, the experimental DMatrix parameter`enable_categorical` must be set to `True`.  Invalid columns:AGE: category, GENDER: category, RACE: category, DRIVING_EXPERIENCE: category, EDUCATION: category, INCOME: category, VEHICLE_YEAR: category, VEHICLE_TYPE: category"
     ]
    }
   ],
   "source": [
    "import kagglehub, pandas as pd, numpy as np\n",
    "import xgboost as xgb, shap\n",
    "from pathlib import Path\n",
    "import matplotlib.pyplot as plt\n",
    "\n",
    "def make_dm_ready(X: pd.DataFrame) -> pd.DataFrame:\n",
    "    Xc = X.copy()\n",
    "    for c in Xc.columns:\n",
    "        if Xc[c].dtype == \"object\":\n",
    "            Xc[c] = Xc[c].astype(\"category\")\n",
    "        if str(Xc[c].dtype).startswith(\"category\"):\n",
    "            Xc[c] = Xc[c].cat.add_categories([\"__NA__\"]).fillna(\"__NA__\")\n",
    "    return Xc\n",
    "\n",
    "path = kagglehub.dataset_download(\"sagnik1511/car-insurance-data\")\n",
    "csv = list(Path(path).rglob(\"*.csv\"))[0]\n",
    "df = pd.read_csv(csv)\n",
    "\n",
    "target = \"OUTCOME\"\n",
    "y = (df[target].astype(str).str.lower()\n",
    "        .map({\"1\":1,\"0\":0,\"yes\":1,\"no\":0,\"true\":1,\"false\":0})\n",
    "        .fillna(df[target]).astype(int))\n",
    "X = df.drop(columns=[target])\n",
    "Xc = make_dm_ready(X)\n",
    "\n",
    "dX = xgb.DMatrix(Xc, enable_categorical=True)\n",
    "\n",
    "booster = xgb.Booster(); booster.load_model(str(Path(\"../models/car_insurance_xgb.json\")))\n",
    "\n",
    "explainer = shap.TreeExplainer(booster)\n",
    "shap_values = explainer.shap_values(dX)\n",
    "print(shap_values.shape)"
   ]
  },
  {
   "cell_type": "markdown",
   "id": "14403ffa",
   "metadata": {},
   "source": [
    "## SHAP summary plot"
   ]
  },
  {
   "cell_type": "code",
   "execution_count": null,
   "id": "55d57819",
   "metadata": {},
   "outputs": [
    {
     "ename": "NameError",
     "evalue": "name 'shap_values' is not defined",
     "output_type": "error",
     "traceback": [
      "\u001b[31m---------------------------------------------------------------------------\u001b[39m",
      "\u001b[31mNameError\u001b[39m                                 Traceback (most recent call last)",
      "\u001b[36mCell\u001b[39m\u001b[36m \u001b[39m\u001b[32mIn[5]\u001b[39m\u001b[32m, line 2\u001b[39m\n\u001b[32m      1\u001b[39m plt.figure(figsize=(\u001b[32m8\u001b[39m,\u001b[32m6\u001b[39m))\n\u001b[32m----> \u001b[39m\u001b[32m2\u001b[39m shap.summary_plot(\u001b[43mshap_values\u001b[49m, Xc, show=\u001b[38;5;28;01mFalse\u001b[39;00m)\n\u001b[32m      3\u001b[39m plt.tight_layout(); plt.show()\n",
      "\u001b[31mNameError\u001b[39m: name 'shap_values' is not defined"
     ]
    },
    {
     "data": {
      "text/plain": [
       "<Figure size 800x600 with 0 Axes>"
      ]
     },
     "metadata": {},
     "output_type": "display_data"
    }
   ],
   "source": [
    "plt.figure(figsize=(8,6))\n",
    "shap.summary_plot(shap_values, Xc, show=False)\n",
    "plt.tight_layout(); plt.show()"
   ]
  },
  {
   "cell_type": "markdown",
   "id": "bb6a964c",
   "metadata": {},
   "source": [
    "## SHAP force plot (single row)"
   ]
  },
  {
   "cell_type": "code",
   "execution_count": 0,
   "id": "0ee2615a",
   "metadata": {},
   "outputs": [],
   "source": [
    "row_idx = 0\n",
    "shap.force_plot(explainer.expected_value, shap_values[row_idx,:], Xc.iloc[row_idx,:], matplotlib=True)"
   ]
  }
 ],
 "metadata": {
  "kernelspec": {
   "display_name": "venv",
   "language": "python",
   "name": "python3"
  },
  "language_info": {
   "codemirror_mode": {
    "name": "ipython",
    "version": 3
   },
   "file_extension": ".py",
   "mimetype": "text/x-python",
   "name": "python",
   "nbconvert_exporter": "python",
   "pygments_lexer": "ipython3",
   "version": "3.11.9"
  }
 },
 "nbformat": 4,
 "nbformat_minor": 5
}
